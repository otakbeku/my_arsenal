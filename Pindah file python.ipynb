{
 "cells": [
  {
   "cell_type": "code",
   "execution_count": 20,
   "metadata": {},
   "outputs": [
    {
     "name": "stdout",
     "output_type": "stream",
     "text": [
      "<class 'pandas.core.frame.DataFrame'>\n",
      "RangeIndex: 10015 entries, 0 to 10014\n",
      "Data columns (total 7 columns):\n",
      "lesion_id       10015 non-null object\n",
      "image_id        10015 non-null object\n",
      "dx              10015 non-null object\n",
      "dx_type         10015 non-null object\n",
      "age             9958 non-null float64\n",
      "sex             10015 non-null object\n",
      "localization    10015 non-null object\n",
      "dtypes: float64(1), object(6)\n",
      "memory usage: 547.8+ KB\n"
     ]
    }
   ],
   "source": [
    "import shutil, os\n",
    "import pandas as pd\n",
    "\n",
    "\n",
    "data = pd.read_csv('F:\\FSR\\dataset\\skin-cancer-mnist-ham10000\\HAM10000_metadata.csv')\n",
    "data.info()\n",
    "root_path = 'F:\\FSR\\dataset\\skin-cancer-mnist-ham10000\\Locat'\n",
    "img_path = 'F:\\FSR\\dataset\\skin-cancer-mnist-ham10000\\HAM10000_images'"
   ]
  },
  {
   "cell_type": "code",
   "execution_count": 23,
   "metadata": {},
   "outputs": [],
   "source": [
    "for index, row in data.iterrows():\n",
    "    path = root_path+'\\\\'+row.localization+'_'+row.dx\n",
    "    if not os.path.exists(path):\n",
    "        os.mkdir(path)\n",
    "        shutil.copy(img_path+'\\\\'+row.image_id+'.jpg', path)\n",
    "    else:\n",
    "        shutil.copy(img_path+'\\\\'+row.image_id+'.jpg', path)"
   ]
  },
  {
   "cell_type": "code",
   "execution_count": 18,
   "metadata": {},
   "outputs": [
    {
     "data": {
      "text/plain": [
       "str"
      ]
     },
     "execution_count": 18,
     "metadata": {},
     "output_type": "execute_result"
    }
   ],
   "source": [
    "row = next(data.iterrows())[1]\n",
    "type(row.dx)"
   ]
  },
  {
   "cell_type": "code",
   "execution_count": null,
   "metadata": {},
   "outputs": [],
   "source": []
  }
 ],
 "metadata": {
  "kernelspec": {
   "display_name": "Python 3",
   "language": "python",
   "name": "python3"
  },
  "language_info": {
   "codemirror_mode": {
    "name": "ipython",
    "version": 3
   },
   "file_extension": ".py",
   "mimetype": "text/x-python",
   "name": "python",
   "nbconvert_exporter": "python",
   "pygments_lexer": "ipython3",
   "version": "3.6.1"
  }
 },
 "nbformat": 4,
 "nbformat_minor": 2
}
